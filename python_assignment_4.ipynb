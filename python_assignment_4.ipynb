{
 "cells": [
  {
   "cell_type": "markdown",
   "metadata": {},
   "source": [
    "#### 1. Write a Python Program to Find the Factorial of a Number?"
   ]
  },
  {
   "cell_type": "code",
   "execution_count": 11,
   "metadata": {},
   "outputs": [
    {
     "name": "stdout",
     "output_type": "stream",
     "text": [
      "enter your number10\n",
      "factorial of  10 is 3628800\n"
     ]
    }
   ],
   "source": [
    "number = int(input(\"enter your number\"))\n",
    "\n",
    "factorial = 1\n",
    "\n",
    "\n",
    "if number < 0:\n",
    "    print(\"we cannot do factorial for negative numbers\")\n",
    "\n",
    "elif number == 0:\n",
    "    print(\"factorial of 0 is 1\")\n",
    "else:\n",
    "    for i in range(1,number + 1):\n",
    "        factorial = factorial*i\n",
    "        \n",
    "    print(\"factorial of \", number ,\"is\" , factorial)"
   ]
  },
  {
   "cell_type": "markdown",
   "metadata": {},
   "source": [
    "#### 2. Write a Python Program to Display the multiplication Table?"
   ]
  },
  {
   "cell_type": "code",
   "execution_count": 14,
   "metadata": {},
   "outputs": [
    {
     "name": "stdout",
     "output_type": "stream",
     "text": [
      "which number's table you want ,enter that number2\n",
      "2\n",
      "4\n",
      "6\n",
      "8\n",
      "10\n",
      "12\n",
      "14\n",
      "16\n",
      "18\n",
      "20\n"
     ]
    }
   ],
   "source": [
    "number = int(input(\"which number's table you want ,enter that number\"))\n",
    "\n",
    "for i in range(1,11):\n",
    "    print(number*i)"
   ]
  },
  {
   "cell_type": "markdown",
   "metadata": {},
   "source": [
    "#### 3. Write a Python Program to Print the Fibonacci sequence?"
   ]
  },
  {
   "cell_type": "code",
   "execution_count": 18,
   "metadata": {},
   "outputs": [
    {
     "name": "stdout",
     "output_type": "stream",
     "text": [
      "enter your number10\n",
      "0\n",
      "1\n",
      "1\n",
      "2\n",
      "3\n",
      "5\n",
      "8\n",
      "13\n",
      "21\n",
      "34\n"
     ]
    }
   ],
   "source": [
    "def function(n):\n",
    "    if n<=1:\n",
    "        return n\n",
    "    else:\n",
    "        return (function(n-1)+function(n-2))\n",
    "    \n",
    "    \n",
    "number = int(input(\"enter your number\"))\n",
    "\n",
    "for i in range(number):\n",
    "    if number<=0:\n",
    "        print(\"enter positive number\")\n",
    "        \n",
    "    else:\n",
    "        print(function(i))"
   ]
  },
  {
   "cell_type": "markdown",
   "metadata": {},
   "source": [
    "#### 4. Write a Python Program to Check Armstrong Number?"
   ]
  },
  {
   "cell_type": "code",
   "execution_count": 22,
   "metadata": {},
   "outputs": [
    {
     "name": "stdout",
     "output_type": "stream",
     "text": [
      "please enter your number1634\n",
      "1634 is an armstrong number\n"
     ]
    }
   ],
   "source": [
    "number = int(input(\"please enter your number\"))\n",
    "\n",
    "sum = 0\n",
    "\n",
    "order = len(str(number))\n",
    "\n",
    "temp = number\n",
    "\n",
    "while temp>0:\n",
    "    digit = temp % 10\n",
    "    sum += digit**order\n",
    "    temp //=10\n",
    "    \n",
    "    \n",
    "if number == sum:\n",
    "    print(number , \"is an armstrong number\")\n",
    "    \n",
    "else:\n",
    "    print(number ,\"is not an armstrong number\")"
   ]
  },
  {
   "cell_type": "markdown",
   "metadata": {},
   "source": [
    "#### 5. Write a Python Program to Find Armstrong Number in an Interval?"
   ]
  },
  {
   "cell_type": "code",
   "execution_count": 24,
   "metadata": {},
   "outputs": [
    {
     "name": "stdout",
     "output_type": "stream",
     "text": [
      "enter your first number10\n",
      "enter your second number1000\n",
      "153\n",
      "370\n",
      "371\n",
      "407\n"
     ]
    }
   ],
   "source": [
    "first_number = int(input(\"enter your first number\"))\n",
    "second_number = int(input(\"enter your second number\"))\n",
    "\n",
    "for num in range(first_number , second_number+1):\n",
    "    \n",
    "    order = len(str(num))\n",
    "    \n",
    "    sum = 0 \n",
    "    \n",
    "    temp = num\n",
    "    \n",
    "    while temp > 0:\n",
    "        digit = temp % 10\n",
    "        sum += digit ** order\n",
    "        temp //= 10\n",
    "        \n",
    "    if num == sum:\n",
    "        print(num)\n"
   ]
  },
  {
   "cell_type": "markdown",
   "metadata": {},
   "source": [
    "#### 6. Write a Python Program to Find the Sum of Natural Numbers?"
   ]
  },
  {
   "cell_type": "code",
   "execution_count": 27,
   "metadata": {},
   "outputs": [
    {
     "name": "stdout",
     "output_type": "stream",
     "text": [
      "enter your number10\n",
      "55.0\n"
     ]
    }
   ],
   "source": [
    "number = int(input(\"enter your number\"))\n",
    "\n",
    "print(number*(number+1)/2)"
   ]
  },
  {
   "cell_type": "code",
   "execution_count": null,
   "metadata": {},
   "outputs": [],
   "source": []
  }
 ],
 "metadata": {
  "kernelspec": {
   "display_name": "Python 3",
   "language": "python",
   "name": "python3"
  },
  "language_info": {
   "codemirror_mode": {
    "name": "ipython",
    "version": 3
   },
   "file_extension": ".py",
   "mimetype": "text/x-python",
   "name": "python",
   "nbconvert_exporter": "python",
   "pygments_lexer": "ipython3",
   "version": "3.8.5"
  }
 },
 "nbformat": 4,
 "nbformat_minor": 4
}
