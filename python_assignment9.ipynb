{
 "cells": [
  {
   "cell_type": "markdown",
   "metadata": {},
   "source": [
    "#### 1. Write a Python program to check if the given number is a Disarium Number?"
   ]
  },
  {
   "cell_type": "code",
   "execution_count": 15,
   "metadata": {},
   "outputs": [
    {
     "name": "stdout",
     "output_type": "stream",
     "text": [
      "enter177\n",
      "177 is not a disarium number\n"
     ]
    }
   ],
   "source": [
    "def calculateLength(n):    \n",
    "    length = 0    \n",
    "    while(n != 0):    \n",
    "        length = length + 1   \n",
    "        n = n//10    \n",
    "    return length   \n",
    "     \n",
    "num = int(input(\"enter\"))\n",
    "rem = sum = 0 \n",
    "len = calculateLength(num)\n",
    "     \n",
    "n = num\n",
    "     \n",
    "while(num > 0):    \n",
    "    rem = num%10 \n",
    "    sum = sum + int(rem**len)\n",
    "    num = num//10\n",
    "    len = len - 1  \n",
    "     \n",
    "if(sum == n):    \n",
    "    print(str(n) + \" is a disarium number\") \n",
    "else:  \n",
    "    print(str(n) + \" is not a disarium number\")"
   ]
  },
  {
   "cell_type": "markdown",
   "metadata": {},
   "source": [
    "#### 2. Write a Python program to print all disarium numbers between 1 to 100?"
   ]
  },
  {
   "cell_type": "code",
   "execution_count": 16,
   "metadata": {},
   "outputs": [
    {
     "name": "stdout",
     "output_type": "stream",
     "text": [
      "Disarium numbers between 1 and 100 are\n",
      "1\n",
      "2\n",
      "3\n",
      "4\n",
      "5\n",
      "6\n",
      "7\n",
      "8\n",
      "9\n",
      "89\n"
     ]
    }
   ],
   "source": [
    "def calculateLength(n):    \n",
    "    length = 0   \n",
    "    while(n != 0):    \n",
    "        length = length + 1  \n",
    "        n = n//10   \n",
    "    return length   \n",
    "      \n",
    "def sumOfDigits(num):    \n",
    "    rem = sum = 0\n",
    "    len = calculateLength(num)  \n",
    "        \n",
    "    while(num > 0):    \n",
    "        rem = num%10\n",
    "        sum = sum + (rem**len)  \n",
    "        num = num//10   \n",
    "        len = len - 1  \n",
    "    return sum\n",
    "      \n",
    "result = 0 \n",
    "     \n",
    "print(\"Disarium numbers between 1 and 100 are\")\n",
    "for i in range(1, 101):    \n",
    "    result = sumOfDigits(i)\n",
    "        \n",
    "    if(result == i):    \n",
    "        print(i)"
   ]
  },
  {
   "cell_type": "markdown",
   "metadata": {},
   "source": [
    "#### 3. Write a Python program to check if the given number is Happy Number?"
   ]
  },
  {
   "cell_type": "code",
   "execution_count": 18,
   "metadata": {},
   "outputs": [
    {
     "name": "stdout",
     "output_type": "stream",
     "text": [
      "enter your nnumber82\n",
      "82 is a happy number\n"
     ]
    }
   ],
   "source": [
    "def isHappyNumber(num):    \n",
    "    rem = sum = 0 \n",
    "        \n",
    "       \n",
    "    while(num > 0):    \n",
    "        rem = num%10  \n",
    "        sum = sum + (rem*rem) \n",
    "        num = num//10  \n",
    "    return sum\n",
    "        \n",
    "num = int(input(\"enter your nnumber\"))\n",
    "result = num \n",
    "     \n",
    "while(result != 1 and result != 4):    \n",
    "    result = isHappyNumber(result)\n",
    "     \n",
    "if(result == 1):    \n",
    "    print(str(num) + \" is a happy number\") \n",
    "elif(result == 4):    \n",
    "    print(str(num) + \" is not a happy number\")"
   ]
  },
  {
   "cell_type": "markdown",
   "metadata": {},
   "source": [
    "#### 4. Write a Python program to print all happy numbers between 1 and 100?"
   ]
  },
  {
   "cell_type": "code",
   "execution_count": 19,
   "metadata": {},
   "outputs": [
    {
     "name": "stdout",
     "output_type": "stream",
     "text": [
      "List of happy numbers between 1 and 100: \n",
      "1\n",
      " \n",
      "7\n",
      " \n",
      "10\n",
      " \n",
      "13\n",
      " \n",
      "19\n",
      " \n",
      "23\n",
      " \n",
      "28\n",
      " \n",
      "31\n",
      " \n",
      "32\n",
      " \n",
      "44\n",
      " \n",
      "49\n",
      " \n",
      "68\n",
      " \n",
      "70\n",
      " \n",
      "79\n",
      " \n",
      "82\n",
      " \n",
      "86\n",
      " \n",
      "91\n",
      " \n",
      "94\n",
      " \n",
      "97\n",
      " \n",
      "100\n",
      " \n"
     ]
    }
   ],
   "source": [
    "def isHappyNumber(num):    \n",
    "    rem = sum = 0   \n",
    " \n",
    "    while(num > 0):    \n",
    "        rem = num%10 \n",
    "        sum = sum + (rem*rem)    \n",
    "        num = num//10   \n",
    "    return sum   \n",
    "            \n",
    "\n",
    "print(\"List of happy numbers between 1 and 100: \")\n",
    "for i in range(1, 101):    \n",
    "    result = i\n",
    "        \n",
    "\n",
    "    while(result != 1 and result != 4):    \n",
    "        result = isHappyNumber(result)\n",
    "    if(result == 1):    \n",
    "        print(i)\n",
    "        print(\" \")"
   ]
  },
  {
   "cell_type": "markdown",
   "metadata": {},
   "source": [
    "#### 5. Write a Python program to determine whether the given number is a Harshad Number?"
   ]
  },
  {
   "cell_type": "code",
   "execution_count": 22,
   "metadata": {},
   "outputs": [
    {
     "name": "stdout",
     "output_type": "stream",
     "text": [
      "enter your number156\n",
      "156 is a harshad number\n"
     ]
    }
   ],
   "source": [
    "num = int(input(\"enter your number\"))  \n",
    "rem = sum = 0  \n",
    "n = num\n",
    "      \n",
    "while(num > 0):    \n",
    "    rem = num%10\n",
    "    \n",
    "    sum = sum + rem  \n",
    "    num = num//10\n",
    "    \n",
    "if(n%sum == 0):    \n",
    "    print(str(n) + \" is a harshad number\") \n",
    "    \n",
    "else:    \n",
    "    print(str(n) + \" is not a harshad number\")"
   ]
  },
  {
   "cell_type": "markdown",
   "metadata": {},
   "source": [
    "#### 6. Write a Python program to print all pronic numbers between 1 and 100?"
   ]
  },
  {
   "cell_type": "code",
   "execution_count": 24,
   "metadata": {},
   "outputs": [
    {
     "name": "stdout",
     "output_type": "stream",
     "text": [
      "Pronic numbers between 1 and 100: \n",
      "2\n",
      "6\n",
      "12\n",
      "20\n",
      "30\n",
      "42\n",
      "56\n",
      "72\n",
      "90\n"
     ]
    }
   ],
   "source": [
    "def isPronicNumber(num):    \n",
    "    flag = False\n",
    "        \n",
    "    for j in range(1, num+1): \n",
    "        if((j*(j+1)) == num):    \n",
    "            flag = True\n",
    "            break\n",
    "    return flag\n",
    "     \n",
    "print(\"Pronic numbers between 1 and 100: \")\n",
    "for i in range(1, 101):    \n",
    "    if(isPronicNumber(i)):    \n",
    "        print(i) "
   ]
  },
  {
   "cell_type": "code",
   "execution_count": null,
   "metadata": {},
   "outputs": [],
   "source": []
  }
 ],
 "metadata": {
  "kernelspec": {
   "display_name": "Python 3",
   "language": "python",
   "name": "python3"
  },
  "language_info": {
   "codemirror_mode": {
    "name": "ipython",
    "version": 3
   },
   "file_extension": ".py",
   "mimetype": "text/x-python",
   "name": "python",
   "nbconvert_exporter": "python",
   "pygments_lexer": "ipython3",
   "version": "3.8.5"
  }
 },
 "nbformat": 4,
 "nbformat_minor": 4
}
