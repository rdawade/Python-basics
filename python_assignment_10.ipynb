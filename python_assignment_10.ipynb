{
 "cells": [
  {
   "cell_type": "markdown",
   "metadata": {},
   "source": [
    "#### 1. Write a Python program to find sum of elements in list?"
   ]
  },
  {
   "cell_type": "code",
   "execution_count": 6,
   "metadata": {},
   "outputs": [
    {
     "name": "stdout",
     "output_type": "stream",
     "text": [
      "sum is  15\n"
     ]
    }
   ],
   "source": [
    "lst = [1,2,3,4,5]\n",
    "\n",
    "addition = 0\n",
    "\n",
    "\n",
    "for i in lst:\n",
    "    addition = addition + i\n",
    "    \n",
    "print(\"sum is \" ,addition)"
   ]
  },
  {
   "cell_type": "markdown",
   "metadata": {},
   "source": [
    "#### 2. Write a Python program to Multiply all numbers in the list?"
   ]
  },
  {
   "cell_type": "code",
   "execution_count": 8,
   "metadata": {},
   "outputs": [
    {
     "name": "stdout",
     "output_type": "stream",
     "text": [
      "Multiply of all numbbers is 360\n"
     ]
    }
   ],
   "source": [
    "lst = [3,4,5,6]\n",
    "\n",
    "mul = 1\n",
    "\n",
    "for i in lst:\n",
    "    mul = mul * i\n",
    "print(\"Multiply of all numbbers is\" ,mul)"
   ]
  },
  {
   "cell_type": "markdown",
   "metadata": {},
   "source": [
    "#### 3. Write a Python program to find smallest number in a list?"
   ]
  },
  {
   "cell_type": "code",
   "execution_count": 72,
   "metadata": {},
   "outputs": [
    {
     "name": "stdout",
     "output_type": "stream",
     "text": [
      "the smallest number in the list is: 1\n"
     ]
    }
   ],
   "source": [
    "a = [1,2,3,5,3,2,1,3,10,199]\n",
    "\n",
    "small = a[0]\n",
    "\n",
    "\n",
    "for i in range(len(a)):\n",
    "    if a[i] < small:\n",
    "        small = a[i]\n",
    "print(\"the smallest number in the list is:\",small)"
   ]
  },
  {
   "cell_type": "markdown",
   "metadata": {},
   "source": [
    "#### 4. Write a Python program to find largest number in a list?"
   ]
  },
  {
   "cell_type": "code",
   "execution_count": 62,
   "metadata": {},
   "outputs": [
    {
     "name": "stdout",
     "output_type": "stream",
     "text": [
      "largest number in the list is: 199\n"
     ]
    }
   ],
   "source": [
    "a = [1,2,3,5,3,2,1,3,10,199]\n",
    "\n",
    "small = 0\n",
    "\n",
    "\n",
    "for i in range(len(a)):\n",
    "    if a[i] > small:\n",
    "        small = a[i]\n",
    "print(\"largest number in the list is:\" ,small)"
   ]
  },
  {
   "cell_type": "markdown",
   "metadata": {},
   "source": [
    "#### 5. Write a Python program to find second largest number in a list?"
   ]
  },
  {
   "cell_type": "code",
   "execution_count": 152,
   "metadata": {},
   "outputs": [
    {
     "name": "stdout",
     "output_type": "stream",
     "text": [
      "largest is  22321\n",
      "the smalles numbes is  11\n",
      "the second largest number is  134\n"
     ]
    }
   ],
   "source": [
    "lst = [22,11,123,32,22321,134]\n",
    "\n",
    "larg = 0\n",
    "\n",
    "\n",
    "for i in range(len(lst)):\n",
    "    if lst[i] > larg:\n",
    "        larg = lst[i]\n",
    "print(\"largest is \",larg)\n",
    "\n",
    "\n",
    "smallest = lst[0]\n",
    "\n",
    "for i in range(len(lst)):\n",
    "    if lst[i] < smallest:\n",
    "        smallest = lst[i]\n",
    "        \n",
    "print(\"the smalles numbes is \", smallest)\n",
    "\n",
    "second_large = 1\n",
    "for k in range(len(lst)):\n",
    "    if lst[k]>smallest or lst[k]<larg:\n",
    "        second_large = lst[k]\n",
    "print(\"the second largest number is \" ,second_large)"
   ]
  },
  {
   "cell_type": "markdown",
   "metadata": {},
   "source": [
    "#### 6. Write a Python program to find N largest elements from a list?"
   ]
  },
  {
   "cell_type": "code",
   "execution_count": 106,
   "metadata": {},
   "outputs": [
    {
     "name": "stdout",
     "output_type": "stream",
     "text": [
      "[85, 41]\n"
     ]
    }
   ],
   "source": [
    "def Nmaxelements(list1, N):\n",
    "    final_list = []\n",
    "  \n",
    "    for i in range(0, N): \n",
    "        max1 = 0\n",
    "          \n",
    "        for j in range(len(list1)):     \n",
    "            if list1[j] > max1:\n",
    "                max1 = list1[j];\n",
    "                  \n",
    "        list1.remove(max1);\n",
    "        final_list.append(max1)\n",
    "          \n",
    "    print(final_list)\n",
    "\n",
    "list1 = [2, 6, 41, 85, 0, 3, 7, 6, 10]\n",
    "N = 2\n",
    "  \n",
    "\n",
    "Nmaxelements(list1, N)"
   ]
  },
  {
   "cell_type": "markdown",
   "metadata": {},
   "source": [
    "#### 7. Write a Python program to print even numbers in a list?"
   ]
  },
  {
   "cell_type": "code",
   "execution_count": 112,
   "metadata": {},
   "outputs": [
    {
     "name": "stdout",
     "output_type": "stream",
     "text": [
      "this is even 22\n",
      "this is odd 33\n",
      "this is even 232\n",
      "this is odd 1\n",
      "this is even 2\n",
      "this is odd 3\n",
      "this is even 4\n",
      "this is even 234\n",
      "this is even 8\n",
      "this is even 112\n"
     ]
    }
   ],
   "source": [
    "find = [22,33,232,1,2,3,4,234,8,112]\n",
    "\n",
    "\n",
    "for i in find:\n",
    "    \n",
    "    if i % 2 == 0 :\n",
    "        print(\"this is even\" ,i)\n",
    "    else:\n",
    "        print(\"this is odd\" ,i)"
   ]
  },
  {
   "cell_type": "markdown",
   "metadata": {},
   "source": [
    "#### 8. Write a Python program to print odd numbers in a List?"
   ]
  },
  {
   "cell_type": "code",
   "execution_count": 136,
   "metadata": {},
   "outputs": [
    {
     "name": "stdout",
     "output_type": "stream",
     "text": [
      "11 1 23 23 :there are the odd numbers\n"
     ]
    }
   ],
   "source": [
    "l = [11,2,1,2,23,432,23]\n",
    "\n",
    "for i in l:\n",
    "    if i % 2 != 0:\n",
    "        print(i , end = ' ')\n",
    "print(\":there are the odd numbers\")\n"
   ]
  },
  {
   "cell_type": "markdown",
   "metadata": {},
   "source": [
    "#### 9. Write a Python program to Remove empty List from List?"
   ]
  },
  {
   "cell_type": "code",
   "execution_count": 147,
   "metadata": {},
   "outputs": [
    {
     "name": "stdout",
     "output_type": "stream",
     "text": [
      "12 22 234 34 "
     ]
    }
   ],
   "source": [
    "lst = [12,22,[],234,[],34]\n",
    "\n",
    "\n",
    "for i in lst:\n",
    "    if i!=[]:\n",
    "        print(i , end = \" \")\n",
    "        "
   ]
  },
  {
   "cell_type": "markdown",
   "metadata": {},
   "source": [
    "#### 10. Write a Python program to Cloning or Copying a list?"
   ]
  },
  {
   "cell_type": "code",
   "execution_count": 148,
   "metadata": {},
   "outputs": [
    {
     "name": "stdout",
     "output_type": "stream",
     "text": [
      "Original List: [4, 8, 2, 10, 15, 18]\n",
      "After Cloning: [4, 8, 2, 10, 15, 18]\n"
     ]
    }
   ],
   "source": [
    "def Cloning(li1):\n",
    "    li_copy = []\n",
    "    li_copy.extend(li1)\n",
    "    return li_copy\n",
    "\n",
    "li1 = [4, 8, 2, 10, 15, 18]\n",
    "li2 = Cloning(li1)\n",
    "print(\"Original List:\", li1)\n",
    "print(\"After Cloning:\", li2)"
   ]
  },
  {
   "cell_type": "markdown",
   "metadata": {},
   "source": [
    "#### 11. Write a Python program to Count occurrences of an element in a list?"
   ]
  },
  {
   "cell_type": "code",
   "execution_count": 154,
   "metadata": {},
   "outputs": [
    {
     "name": "stdout",
     "output_type": "stream",
     "text": [
      "enter your number8\n",
      "8 has occurred 5 times\n"
     ]
    }
   ],
   "source": [
    "def countX(lst, x):\n",
    "    count = 0\n",
    "    for ele in lst:\n",
    "        if (ele == x):\n",
    "            count = count + 1\n",
    "    return count\n",
    " \n",
    "lst = [8, 6, 8, 10, 8, 20, 10, 8, 8]\n",
    "x = int(input(\"enter your number\"))\n",
    "print('{} has occurred {} times'.format(x, countX(lst, x)))"
   ]
  },
  {
   "cell_type": "code",
   "execution_count": null,
   "metadata": {},
   "outputs": [],
   "source": []
  }
 ],
 "metadata": {
  "kernelspec": {
   "display_name": "Python 3",
   "language": "python",
   "name": "python3"
  },
  "language_info": {
   "codemirror_mode": {
    "name": "ipython",
    "version": 3
   },
   "file_extension": ".py",
   "mimetype": "text/x-python",
   "name": "python",
   "nbconvert_exporter": "python",
   "pygments_lexer": "ipython3",
   "version": "3.8.5"
  }
 },
 "nbformat": 4,
 "nbformat_minor": 4
}
