{
 "cells": [
  {
   "cell_type": "markdown",
   "metadata": {},
   "source": [
    "#### 1. Write a Python Program to find sum of array?"
   ]
  },
  {
   "cell_type": "code",
   "execution_count": 38,
   "metadata": {},
   "outputs": [],
   "source": [
    "def find_sum():\n",
    "    user_input = input(\"enter any numbers by giving space\")\n",
    "    user_list = user_input.split()                  ## (first we split the list into another one)\n",
    "    print(\"list is:\" , user_input)\n",
    "    \n",
    "    \n",
    "    for i in range(len(user_list)):              ##(to iterate throgh a list using for loop)\n",
    "                                                  \n",
    "        user_list[i] = int(user_list[i])         ##(converting list into integer so that we can use sum function)\n",
    "        \n",
    "    print(\"sum of the list is:\" ,sum(user_list))"
   ]
  },
  {
   "cell_type": "code",
   "execution_count": 40,
   "metadata": {},
   "outputs": [
    {
     "name": "stdout",
     "output_type": "stream",
     "text": [
      "enter any numbers by giving space100 100 100\n",
      "list is: 100 100 100\n",
      "sum of the list is: 300\n"
     ]
    }
   ],
   "source": [
    "find_sum()"
   ]
  },
  {
   "cell_type": "markdown",
   "metadata": {},
   "source": [
    "#### 2. Write a Python Program to find largest element in an array?"
   ]
  },
  {
   "cell_type": "code",
   "execution_count": 36,
   "metadata": {},
   "outputs": [],
   "source": [
    "array = [1,2,3,4,5]                    ##(we can simply use inbuilt function max to find largest number)\n",
    "\n",
    "\n",
    "def finding_largest():                 ##(we can also ask user to give input)\n",
    "    print(max(array))                  "
   ]
  },
  {
   "cell_type": "code",
   "execution_count": 37,
   "metadata": {},
   "outputs": [
    {
     "name": "stdout",
     "output_type": "stream",
     "text": [
      "5\n"
     ]
    }
   ],
   "source": [
    "finding_largest()"
   ]
  },
  {
   "cell_type": "code",
   "execution_count": 45,
   "metadata": {},
   "outputs": [],
   "source": [
    "def find_large():\n",
    "    lst = []     ####(creating blank list so that we can iterate through it)\n",
    "    user_input = int(input(\"enter the size or an array\"))          ###(taking user input)\n",
    "    \n",
    "    for i in range(user_input):        ####(using for loop to iterate the numbers)\n",
    "        numbers = int(input(\"enter the number one by one\"))    ####(asking user input this will ask user input equal to input given forst time)\n",
    "        lst.append(numbers)    ####(appending all the numbers inside the lst)\n",
    "        \n",
    "    large = lst[0]        #### (creating another variable by giving first index of lst)\n",
    "    \n",
    "    for i in range(user_input):   ####(using for loop to iterate the numbers)\n",
    "        if lst[i] > large:        ####(here comes the logic ,it will check in first iteration if number is greater than large which is calling first index of lst it will make it equal to large)\n",
    "            large = lst[i]        ####(after first iteration in second iteration if second number in lst is greater than large then again it will make the changes accordingly)\n",
    "            \n",
    "    print(\"largest number is\" , large)   ####(by checking all the number whichever number is greater it will print that number)\n",
    "        "
   ]
  },
  {
   "cell_type": "code",
   "execution_count": 46,
   "metadata": {},
   "outputs": [
    {
     "name": "stdout",
     "output_type": "stream",
     "text": [
      "enter the size or an array3\n",
      "enter the number one by one2221\n",
      "enter the number one by one1\n",
      "enter the number one by one3\n",
      "largest number is 2221\n"
     ]
    }
   ],
   "source": [
    "find_large()"
   ]
  },
  {
   "cell_type": "markdown",
   "metadata": {},
   "source": [
    "#### 3. Write a Python Program for array rotation?"
   ]
  },
  {
   "cell_type": "code",
   "execution_count": 1,
   "metadata": {},
   "outputs": [
    {
     "name": "stdout",
     "output_type": "stream",
     "text": [
      "[1, 2, 3, 4, 5, 6]\n",
      "Rotated list is\n",
      "[3, 4, 5, 6, 1, 2]\n"
     ]
    }
   ],
   "source": [
    "def rotateList(arr,d,n):\n",
    "    \n",
    "    arr[:]=arr[d:n]+arr[0:d]\n",
    "    \n",
    "    return arr\n",
    "\n",
    "arr = [1, 2, 3, 4, 5, 6]\n",
    "\n",
    "print(arr)\n",
    "\n",
    "\n",
    "print(\"Rotated list is\")\n",
    "\n",
    "print(rotateList(arr,2,len(arr)))"
   ]
  },
  {
   "cell_type": "markdown",
   "metadata": {},
   "source": [
    "#### 4. Write a Python Program to Split the array and add the first part to the end?"
   ]
  },
  {
   "cell_type": "code",
   "execution_count": 2,
   "metadata": {},
   "outputs": [
    {
     "name": "stdout",
     "output_type": "stream",
     "text": [
      "5 6 52 36 12 10 "
     ]
    }
   ],
   "source": [
    "def splitArr(a, n, k): \n",
    "    \n",
    "    b = a[:k]\n",
    "    \n",
    "    return (a[k::]+b[::])\n",
    "\n",
    "          \n",
    "arr = [12, 10, 5, 6, 52, 36]\n",
    "\n",
    "n = len(arr)\n",
    "\n",
    "position = 2\n",
    "\n",
    "arr = splitArr(arr, n, position)\n",
    "\n",
    "for i in range(0, n): \n",
    "    \n",
    "    print(arr[i], end = ' ')"
   ]
  },
  {
   "cell_type": "markdown",
   "metadata": {},
   "source": [
    "#### 5. Write a Python Program to check if given array is Monotonic?"
   ]
  },
  {
   "cell_type": "code",
   "execution_count": 3,
   "metadata": {},
   "outputs": [
    {
     "name": "stdout",
     "output_type": "stream",
     "text": [
      "True\n"
     ]
    }
   ],
   "source": [
    "def isMonotonic(A):\n",
    "  \n",
    "    return (all(A[i] <= A[i + 1] for i in range(len(A) - 1)) or\n",
    "            all(A[i] >= A[i + 1] for i in range(len(A) - 1)))\n",
    "\n",
    "A = [6, 5, 4, 4]\n",
    "\n",
    "print(isMonotonic(A))"
   ]
  },
  {
   "cell_type": "code",
   "execution_count": null,
   "metadata": {},
   "outputs": [],
   "source": []
  }
 ],
 "metadata": {
  "kernelspec": {
   "display_name": "Python 3",
   "language": "python",
   "name": "python3"
  },
  "language_info": {
   "codemirror_mode": {
    "name": "ipython",
    "version": 3
   },
   "file_extension": ".py",
   "mimetype": "text/x-python",
   "name": "python",
   "nbconvert_exporter": "python",
   "pygments_lexer": "ipython3",
   "version": "3.8.5"
  }
 },
 "nbformat": 4,
 "nbformat_minor": 4
}
