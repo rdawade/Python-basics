{
 "cells": [
  {
   "cell_type": "markdown",
   "metadata": {},
   "source": [
    "#### 1. Write a Python Program to Display Fibonacci Sequence Using Recursion?"
   ]
  },
  {
   "cell_type": "code",
   "execution_count": 3,
   "metadata": {},
   "outputs": [
    {
     "name": "stdout",
     "output_type": "stream",
     "text": [
      "please enter your number12\n",
      "fibonacci:\n",
      "0\n",
      "1\n",
      "1\n",
      "2\n",
      "3\n",
      "5\n",
      "8\n",
      "13\n",
      "21\n",
      "34\n",
      "55\n",
      "89\n"
     ]
    }
   ],
   "source": [
    "def fibonacci(n):\n",
    "    if n <= 1:\n",
    "        return n\n",
    "    else:\n",
    "        return (fibonacci(n-1)+(fibonacci(n-2)))\n",
    "    \n",
    "user_input = int(input(\"please enter your number\"))\n",
    "\n",
    "if user_input <=0:\n",
    "    print(\"please enter the positive number\")\n",
    "else:\n",
    "    print(\"fibonacci:\")\n",
    "    for i in range(user_input):\n",
    "        print(fibonacci(i))"
   ]
  },
  {
   "cell_type": "markdown",
   "metadata": {},
   "source": [
    "#### 2. Write a Python Program to Find Factorial of Number Using Recursion?"
   ]
  },
  {
   "cell_type": "code",
   "execution_count": 12,
   "metadata": {},
   "outputs": [
    {
     "name": "stdout",
     "output_type": "stream",
     "text": [
      "please enter your number5\n",
      "the factorial of 5 is 120\n"
     ]
    }
   ],
   "source": [
    "def factorial(n):\n",
    "    if n <= 1:\n",
    "        return n\n",
    "    else:\n",
    "        return n*factorial(n-1)\n",
    "    \n",
    "user_input = int(input(\"please enter your number\"))\n",
    "\n",
    "if user_input < 0 :\n",
    "    print(\"please enter a positive number\")\n",
    "elif user_input <= 0:\n",
    "    print(\"factorial is 1\")\n",
    "else:\n",
    "    print(\"the factorial of\" , user_input , \"is\" , factorial(user_input))"
   ]
  },
  {
   "cell_type": "markdown",
   "metadata": {},
   "source": [
    "#### 3. Write a Python Program to calculate your Body Mass Index?"
   ]
  },
  {
   "cell_type": "code",
   "execution_count": 14,
   "metadata": {},
   "outputs": [
    {
     "name": "stdout",
     "output_type": "stream",
     "text": [
      "enter your weight in Kgs70\n",
      "enter you hieght in CMS168\n",
      "your  BMI is 24.801587301587304\n",
      "you are normal\n"
     ]
    }
   ],
   "source": [
    "### formula of calculatiin BMI (BMI = weight/hieght) , where weight in Kgs and hieght in meter square\n",
    "\n",
    "weight = float(input(\"enter your weight in Kgs\"))\n",
    "hieght = float(input(\"enter you hieght in CMS\"))/100\n",
    "\n",
    "BMI = weight/hieght**2   ##(weight in kgs and hieght in cms as we have divided hieght by 100 to convert into meters)\n",
    "print(\"your  BMI is\", BMI)\n",
    "\n",
    "if BMI < 18:\n",
    "    print(\"you are underweight and should eat more\")\n",
    "elif BMI >=18 and BMI <=24.9:\n",
    "    print(\"you are normal\")\n",
    "elif BMI >= 25:\n",
    "    print(\"you are overweight and should diet\")"
   ]
  },
  {
   "cell_type": "markdown",
   "metadata": {},
   "source": [
    "#### 4. Write a Python Program to calculate the natural logarithm of any number?"
   ]
  },
  {
   "cell_type": "markdown",
   "metadata": {},
   "source": [
    "#### we have inbulit function math with this we can calculate the logarith or any number"
   ]
  },
  {
   "cell_type": "code",
   "execution_count": 15,
   "metadata": {},
   "outputs": [],
   "source": [
    "import math"
   ]
  },
  {
   "cell_type": "code",
   "execution_count": 16,
   "metadata": {},
   "outputs": [
    {
     "name": "stdout",
     "output_type": "stream",
     "text": [
      "1.0\n"
     ]
    }
   ],
   "source": [
    "find_log = math.log10(10)     ##(here with base 10 we are calculaing the log)\n",
    "print(find_log)"
   ]
  },
  {
   "cell_type": "code",
   "execution_count": 17,
   "metadata": {},
   "outputs": [
    {
     "data": {
      "text/plain": [
       "3.321928094887362"
      ]
     },
     "execution_count": 17,
     "metadata": {},
     "output_type": "execute_result"
    }
   ],
   "source": [
    "find_log_base = math.log2(10)     ##(with base 2 we are calculatiin log)\n",
    "find_log_base"
   ]
  },
  {
   "cell_type": "code",
   "execution_count": null,
   "metadata": {},
   "outputs": [],
   "source": []
  }
 ],
 "metadata": {
  "kernelspec": {
   "display_name": "Python 3",
   "language": "python",
   "name": "python3"
  },
  "language_info": {
   "codemirror_mode": {
    "name": "ipython",
    "version": 3
   },
   "file_extension": ".py",
   "mimetype": "text/x-python",
   "name": "python",
   "nbconvert_exporter": "python",
   "pygments_lexer": "ipython3",
   "version": "3.8.5"
  }
 },
 "nbformat": 4,
 "nbformat_minor": 4
}
