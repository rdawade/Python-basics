{
 "cells": [
  {
   "cell_type": "markdown",
   "metadata": {},
   "source": [
    "#### 1. Why are functions advantageous to have in your programs?\n",
    "Ans-Functions reduce the need for duplicate code. This makes programs shorter, easier to read, and easier to update. ... A function call is what moves the program execution into the function, and the function call evaluates to the function's return value."
   ]
  },
  {
   "cell_type": "markdown",
   "metadata": {},
   "source": [
    "#### 2. When does the code in a function run: when it&#39;s specified or when it&#39;s called?\n",
    "\n",
    "ans-Functions are \"self contained\" modules of code that accomplish a specific task. Functions usually \"take in\" data, process it, and \"return\" a result. Once a function is written, it can be used over and over and over again. Functions can be \"called\" from the inside of other functions.,The code inside a function is not executed when the function is defined. The code inside a function is executed when the function is invoked ,The program comes to a line of code containing a \"function call\". The program enters the function (starts at the first line in the function code). All instructions inside of the function are executed from top to bottom. The program leaves the function and goes back to where it started from\n"
   ]
  },
  {
   "cell_type": "markdown",
   "metadata": {},
   "source": [
    "#### 3. What statement creates a function?\n",
    "ans-def is the satement which creates a function we always use def(): to create function"
   ]
  },
  {
   "cell_type": "markdown",
   "metadata": {},
   "source": [
    "#### 4. What is the difference between a function and a function call?\n",
    "ans-Using a function to do a particular task any point in program is called as function call. So the difference between the function and function call is, A function is procedure to achieve a particular result while function call is using this function to achive that task"
   ]
  },
  {
   "cell_type": "markdown",
   "metadata": {},
   "source": [
    "#### 5. How many global scopes are there in a Python program? How many local scopes?\n",
    "ans-Any varialbe created outside the function is called global variable and the values of it is called global scope however any variable created inside the function is called local variable and the value of it is called local scope , we can call the global scope anywhere from the function, Global variables are available from within any scope, global and local , however local scope is not"
   ]
  },
  {
   "cell_type": "markdown",
   "metadata": {},
   "source": [
    "#### 6. What happens to variables in a local scope when the function call returns?\n",
    "ans-When the execution of the function terminates (returns), the local variables are destroyed the local variables disappear after the function returns."
   ]
  },
  {
   "cell_type": "markdown",
   "metadata": {},
   "source": [
    "#### 7. What is the concept of a return value? Is it possible to have a return value in an expression?\n",
    "ans-A return statement is used to end the execution of the function call and “returns” the result (value of the expression following the return keyword) to the caller. The statements after the return statements are not executed. If the return statement is without any expression, then the special value None is returned, return statemenet cannot be used outside the function.\n",
    "A Python function will always have a return value. There is no notion of procedure or routine in Python. ... Since this is the purpose of print() "
   ]
  },
  {
   "cell_type": "markdown",
   "metadata": {},
   "source": [
    "#### 8. If a function does not have a return statement, what is the return value of a call to that function?\n",
    "Ans- we will get as none"
   ]
  },
  {
   "cell_type": "markdown",
   "metadata": {},
   "source": [
    "#### 9. How do you make a function variable refer to the global variable?\n",
    "Ans- we can declare a keyword that is \"global\" to refer to the global variable"
   ]
  },
  {
   "cell_type": "markdown",
   "metadata": {},
   "source": [
    "#### 10. What is the data type of None?\n",
    "ans-the data type would be None "
   ]
  },
  {
   "cell_type": "markdown",
   "metadata": {},
   "source": [
    "#### 11. What does the sentence import areallyourpetsnamederic do?\n",
    "ans-Summary: Import in Python helps you to refer to the code, i.e., . functions/objects that are written in another file. It is also used to import python libraries/packages that are installed using pip(python package manager), and you need then to use in your code."
   ]
  },
  {
   "cell_type": "markdown",
   "metadata": {},
   "source": [
    "#### 12. If you had a bacon() feature in a spam module, what would you call it after importing spam?\n",
    "ans - spam.bacon()"
   ]
  },
  {
   "cell_type": "markdown",
   "metadata": {},
   "source": [
    "#### 13. What can you do to save a programme from crashing if it encounters an error?\n",
    "ans -nstead, error handling can be used to notify the user of why the error occurred and gracefully exit the process that caused the error"
   ]
  },
  {
   "cell_type": "markdown",
   "metadata": {},
   "source": [
    "#### 14. What is the purpose of the try clause? What is the purpose of the except clause?\n",
    "ans - The try block is used to check some code for errors i.e the code inside the try block will execute when there is no error in the program. Whereas the code inside the except block will execute whenever the program encounters some error in the preceding try block."
   ]
  },
  {
   "cell_type": "code",
   "execution_count": null,
   "metadata": {},
   "outputs": [],
   "source": []
  }
 ],
 "metadata": {
  "kernelspec": {
   "display_name": "Python 3",
   "language": "python",
   "name": "python3"
  },
  "language_info": {
   "codemirror_mode": {
    "name": "ipython",
    "version": 3
   },
   "file_extension": ".py",
   "mimetype": "text/x-python",
   "name": "python",
   "nbconvert_exporter": "python",
   "pygments_lexer": "ipython3",
   "version": "3.8.5"
  }
 },
 "nbformat": 4,
 "nbformat_minor": 4
}
