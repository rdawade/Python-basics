{
 "cells": [
  {
   "cell_type": "markdown",
   "metadata": {},
   "source": [
    "#### 1. Write a Python Program to Find LCM?"
   ]
  },
  {
   "cell_type": "code",
   "execution_count": 19,
   "metadata": {},
   "outputs": [
    {
     "name": "stdout",
     "output_type": "stream",
     "text": [
      "enter your first number12\n",
      "enter your second number14\n",
      "the lcm of 12 and 14 is: 84\n"
     ]
    }
   ],
   "source": [
    "def find_lcm(a,b):\n",
    "    if a > b:\n",
    "        grtr = a\n",
    "    else:\n",
    "        grtr = b\n",
    "        \n",
    "    while(True):\n",
    "        if ((grtr % a == 0)and(grtr % b == 0)):\n",
    "            lcm = grtr\n",
    "            break\n",
    "        grtr+=1\n",
    "    return lcm\n",
    "\n",
    "n1 = int(input(\"enter your first number\"))\n",
    "n2 = int(input(\"enter your second number\"))\n",
    "\n",
    "print(\"the lcm of\",n1, \"and\" ,n2,\"is:\", find_lcm(n1,n2))\n",
    "    "
   ]
  },
  {
   "cell_type": "markdown",
   "metadata": {},
   "source": [
    "####  2. Write a Python Program to Find HCF?"
   ]
  },
  {
   "cell_type": "code",
   "execution_count": 30,
   "metadata": {},
   "outputs": [
    {
     "name": "stdout",
     "output_type": "stream",
     "text": [
      "enter your first number88\n",
      "enter your second number42\n",
      "hcf of given numbers is 2\n"
     ]
    }
   ],
   "source": [
    "def find_HCF(a,b):\n",
    "    if a > b:\n",
    "        small = b\n",
    "    else:\n",
    "        small = a\n",
    "        \n",
    "    for i in range(1 , small+1):\n",
    "        if ((x% i == 0) and (y%i ==0)):\n",
    "            hcf = i\n",
    "        \n",
    "    return hcf\n",
    "    \n",
    "x = int(input(\"enter your first number\"))\n",
    "y = int(input(\"enter your second number\"))\n",
    "\n",
    "print(\"hcf of given numbers is\" , find_HCF(x,y))"
   ]
  },
  {
   "cell_type": "markdown",
   "metadata": {},
   "source": [
    "#### 3. Write a Python Program to Convert Decimal to Binary, Octal and Hexadecimal?"
   ]
  },
  {
   "cell_type": "code",
   "execution_count": 33,
   "metadata": {},
   "outputs": [
    {
     "name": "stdout",
     "output_type": "stream",
     "text": [
      "enter your number124\n",
      "The decimal value of 124 is:\n",
      "0b1111100 in binary.\n",
      "0o174 in octal.\n",
      "0x7c in hexadecimal.\n"
     ]
    }
   ],
   "source": [
    "n = int(input(\"enter your number\"))\n",
    "\n",
    "print(\"The decimal value of\", n, \"is:\")\n",
    "print(bin(n), \"in binary.\")\n",
    "print(oct(n), \"in octal.\")\n",
    "print(hex(n), \"in hexadecimal.\")\n"
   ]
  },
  {
   "cell_type": "markdown",
   "metadata": {},
   "source": [
    "#### 4. Write a Python Program To Find ASCII value of a character?"
   ]
  },
  {
   "cell_type": "code",
   "execution_count": 34,
   "metadata": {},
   "outputs": [
    {
     "name": "stdout",
     "output_type": "stream",
     "text": [
      "ASCII value of c is 99\n"
     ]
    }
   ],
   "source": [
    "char = \"c\"\n",
    "\n",
    "print(\"ASCII value of\" , char , \"is\" , ord(char))"
   ]
  },
  {
   "cell_type": "markdown",
   "metadata": {},
   "source": [
    "#### 5. Write a Python Program to Make a Simple Calculator with 4 basic mathematical operations?"
   ]
  },
  {
   "cell_type": "code",
   "execution_count": 41,
   "metadata": {},
   "outputs": [],
   "source": [
    "def calculator():\n",
    "    x = float(input(\"enter your no\"))\n",
    "    y = float(input(\"enter your second n\"))\n",
    "    \n",
    "    c = int(input(\"enter your choice\" + \" 1.addition \" + \" 2.subtraction \"  + \" 3.division \" + \" 4.mulitply \"))\n",
    "    \n",
    "    if c == 1:\n",
    "        return x+y\n",
    "    \n",
    "    elif c == 2:\n",
    "        return x-y\n",
    "    elif c == 3:\n",
    "        return x/y\n",
    "    elif c == 4:\n",
    "        return x*y\n",
    "    else:\n",
    "        return \" this is incorrect choice\""
   ]
  },
  {
   "cell_type": "code",
   "execution_count": 43,
   "metadata": {},
   "outputs": [
    {
     "name": "stdout",
     "output_type": "stream",
     "text": [
      "enter your no2\n",
      "enter your second n4\n",
      "enter your choice 1.addition  2.subtraction  3.division  4.mulitply 3\n"
     ]
    },
    {
     "data": {
      "text/plain": [
       "0.5"
      ]
     },
     "execution_count": 43,
     "metadata": {},
     "output_type": "execute_result"
    }
   ],
   "source": [
    "calculator()"
   ]
  },
  {
   "cell_type": "code",
   "execution_count": 49,
   "metadata": {},
   "outputs": [
    {
     "name": "stdout",
     "output_type": "stream",
     "text": [
      "enter your no4\n",
      "enter your second n6\n",
      "enter your choice 1.addition  2.subtraction  3.division  4.mulitply 4\n"
     ]
    },
    {
     "data": {
      "text/plain": [
       "24.0"
      ]
     },
     "execution_count": 49,
     "metadata": {},
     "output_type": "execute_result"
    }
   ],
   "source": [
    "calculator()"
   ]
  },
  {
   "cell_type": "code",
   "execution_count": 50,
   "metadata": {},
   "outputs": [
    {
     "name": "stdout",
     "output_type": "stream",
     "text": [
      "enter your no4\n",
      "enter your second n3\n",
      "enter your choice 1.addition  2.subtraction  3.division  4.mulitply 7\n"
     ]
    },
    {
     "data": {
      "text/plain": [
       "' this is incorrect choice'"
      ]
     },
     "execution_count": 50,
     "metadata": {},
     "output_type": "execute_result"
    }
   ],
   "source": [
    "calculator()"
   ]
  },
  {
   "cell_type": "code",
   "execution_count": null,
   "metadata": {},
   "outputs": [],
   "source": []
  },
  {
   "cell_type": "code",
   "execution_count": null,
   "metadata": {},
   "outputs": [],
   "source": []
  },
  {
   "cell_type": "code",
   "execution_count": null,
   "metadata": {},
   "outputs": [],
   "source": []
  },
  {
   "cell_type": "code",
   "execution_count": null,
   "metadata": {},
   "outputs": [],
   "source": []
  }
 ],
 "metadata": {
  "kernelspec": {
   "display_name": "Python 3",
   "language": "python",
   "name": "python3"
  },
  "language_info": {
   "codemirror_mode": {
    "name": "ipython",
    "version": 3
   },
   "file_extension": ".py",
   "mimetype": "text/x-python",
   "name": "python",
   "nbconvert_exporter": "python",
   "pygments_lexer": "ipython3",
   "version": "3.8.5"
  }
 },
 "nbformat": 4,
 "nbformat_minor": 4
}
